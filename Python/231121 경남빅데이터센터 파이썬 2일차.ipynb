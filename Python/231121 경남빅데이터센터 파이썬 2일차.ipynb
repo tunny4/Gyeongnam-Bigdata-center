{
 "cells": [
  {
   "cell_type": "markdown",
   "id": "7f7e1c6b",
   "metadata": {},
   "source": [
    "# 4장 함수와 입출력"
   ]
  },
  {
   "cell_type": "markdown",
   "id": "25580fdc",
   "metadata": {},
   "source": [
    "### return 문이 없는 간단한 코드로 함수 호출하기"
   ]
  },
  {
   "cell_type": "code",
   "execution_count": 2,
   "id": "799713eb",
   "metadata": {},
   "outputs": [
    {
     "name": "stdout",
     "output_type": "stream",
     "text": [
      "********\n"
     ]
    }
   ],
   "source": [
    "def print_star():\n",
    "    print('********')\n",
    "    \n",
    "print_star()"
   ]
  },
  {
   "cell_type": "code",
   "execution_count": 3,
   "id": "3b9a0cfd",
   "metadata": {
    "scrolled": true
   },
   "outputs": [
    {
     "name": "stdout",
     "output_type": "stream",
     "text": [
      "********\n",
      "********\n"
     ]
    }
   ],
   "source": [
    "def print_star():\n",
    "    print('********')\n",
    "    \n",
    "print_star()\n",
    "print_star()"
   ]
  },
  {
   "cell_type": "code",
   "execution_count": 8,
   "id": "f0ab9824",
   "metadata": {},
   "outputs": [
    {
     "name": "stdout",
     "output_type": "stream",
     "text": [
      "*********\n",
      "*********\n",
      "*********\n",
      "*********\n"
     ]
    }
   ],
   "source": [
    "def print_star(n):\n",
    "    for _ in range(n):\n",
    "        print('*********')\n",
    "print_star(4)"
   ]
  },
  {
   "cell_type": "code",
   "execution_count": 9,
   "id": "718c620c",
   "metadata": {},
   "outputs": [
    {
     "name": "stdout",
     "output_type": "stream",
     "text": [
      "10 과 20 의 합은 30 입니다\n"
     ]
    }
   ],
   "source": [
    "def print_sum(a,b):\n",
    "    result = a + b\n",
    "    print(a,'과',b,'의 합은',result,'입니다')\n",
    "\n",
    "print_sum(10,20)"
   ]
  },
  {
   "cell_type": "markdown",
   "id": "89fedf7e",
   "metadata": {},
   "source": [
    "### 매개변수를 활용한 2차 방정식의 근 구하기"
   ]
  },
  {
   "cell_type": "code",
   "execution_count": 12,
   "id": "1bb4edb7",
   "metadata": {},
   "outputs": [
    {
     "name": "stdout",
     "output_type": "stream",
     "text": [
      "해는 2.0 또는 -4.0\n"
     ]
    }
   ],
   "source": [
    "a = 1\n",
    "b = 2\n",
    "c = -8\n",
    "# ( a * x^2 ) + ( b * x ) + c = 0\n",
    "r1 = (-b + (b ** 2 - 4 * a * c) ** 0.5) / (2 * a)\n",
    "r2 = (-b - (b ** 2 - 4 * a * c) ** 0.5) / (2 * a)\n",
    "print('해는', r1, '또는', r2)"
   ]
  },
  {
   "cell_type": "code",
   "execution_count": 27,
   "id": "0435e7b4",
   "metadata": {},
   "outputs": [
    {
     "name": "stdout",
     "output_type": "stream",
     "text": [
      "해는 2.0 또는 -4.0\n"
     ]
    }
   ],
   "source": [
    "def print_root(a, b, c):\n",
    "    r1 = (-b + (b ** 2 - 4 * a * c) ** 0.5) / (2 * a)\n",
    "    r2 = (-b - (b ** 2 - 4 * a * c) ** 0.5) / (2 * a)\n",
    "print('해는', r1, '또는', r2)\n",
    "# 계수 값이 다른 2차 방정식의 해를 구함\n",
    "print_root(1, 2, -8)\n",
    "print_root(2, -6, -8)\n"
   ]
  },
  {
   "cell_type": "markdown",
   "id": "a2c23efb",
   "metadata": {},
   "source": [
    "### 반환문 return"
   ]
  },
  {
   "cell_type": "code",
   "execution_count": 30,
   "id": "c86889d9",
   "metadata": {},
   "outputs": [
    {
     "name": "stdout",
     "output_type": "stream",
     "text": [
      "10과 20의 합 = 30\n",
      "100과 200의 합 = 300\n"
     ]
    }
   ],
   "source": [
    "def get_sum(a, b): # 두 수의 합을 반환하는 함수\n",
    "    result = a + b\n",
    "    return result # return 문을 사용하여 result를 반환\n",
    "n1 = get_sum(10, 20) \n",
    "print('10과 20의 합 =', n1)\n",
    "n2 = get_sum(100, 200)\n",
    "print('100과 200의 합 =', n2)"
   ]
  },
  {
   "cell_type": "code",
   "execution_count": 31,
   "id": "5e1bb1d9",
   "metadata": {},
   "outputs": [
    {
     "name": "stdout",
     "output_type": "stream",
     "text": [
      "두 수의 합 300\n"
     ]
    }
   ],
   "source": [
    "def get_sum(a, b):\n",
    "    return a + b\n",
    "result = get_sum(100, 200)\n",
    "print('두 수의 합', result)"
   ]
  },
  {
   "cell_type": "code",
   "execution_count": 36,
   "id": "57dab82c",
   "metadata": {},
   "outputs": [
    {
     "name": "stdout",
     "output_type": "stream",
     "text": [
      "해는 2.0 또는 -4.0\n"
     ]
    }
   ],
   "source": [
    "#두 개의 값을 튜플로 반환하는 방법과 전달받는 방법\n",
    "\n",
    "def get_root(a, b, c):\n",
    "    r1 = (-b + (b ** 2 - 4 * a * c) ** 0.5) / (2 * a)\n",
    "    r2 = (-b - (b ** 2 - 4 * a * c) ** 0.5) / (2 * a)\n",
    "    return r1, r2\n",
    "# 함수 호출시 1, 2, -8 인자를 사용함\n",
    "# result1, result2를 이용해서 결과 값을 반환 받는다.\n",
    "result1, result2 = get_root(1, 2, -8)\n",
    "print('해는', result1, '또는', result2)"
   ]
  },
  {
   "cell_type": "markdown",
   "id": "3b3174b5",
   "metadata": {},
   "source": [
    "### 전역변수"
   ]
  },
  {
   "cell_type": "code",
   "execution_count": 23,
   "id": "a11c0063",
   "metadata": {},
   "outputs": [
    {
     "name": "stdout",
     "output_type": "stream",
     "text": [
      "10 과 20 의 합은 30 입니다.\n",
      "10 과 20 의 합은 30 입니다.\n"
     ]
    }
   ],
   "source": [
    "def print_sum():\n",
    "    result = a+b\n",
    "    print(a, '과',b,'의 합은', result, '입니다.')\n",
    "\n",
    "a=10 #전역변수\n",
    "b=20 #전역변수\n",
    "\n",
    "print_sum()\n",
    "      \n",
    "result= a + b\n",
    "print(a, '과',b,'의 합은', result, '입니다.')"
   ]
  },
  {
   "cell_type": "code",
   "execution_count": 26,
   "id": "84e22d4d",
   "metadata": {},
   "outputs": [
    {
     "name": "stdout",
     "output_type": "stream",
     "text": [
      "print_sum()내부: 100 과 200 의 합은 300 입니다.\n",
      "print_sum()외부: 10 과 20 의 합은 30 입니다.\n"
     ]
    }
   ],
   "source": [
    "def print_sum():\n",
    "    a=100\n",
    "    b=200\n",
    "    result = a+b\n",
    "    print('print_sum()내부:',a, '과',b,'의 합은', result, '입니다.')\n",
    "\n",
    "a=10 \n",
    "b=20 \n",
    "\n",
    "print_sum()\n",
    "      \n",
    "result= a + b\n",
    "print('print_sum()외부:',a, '과',b,'의 합은', result, '입니다.')"
   ]
  },
  {
   "cell_type": "code",
   "execution_count": 97,
   "id": "09fa353b",
   "metadata": {},
   "outputs": [
    {
     "name": "stdout",
     "output_type": "stream",
     "text": [
      "print_sum() 내부 : 100 과 200 의 합은 300 입니다.\n",
      "print_sum() 외부 : 100 과 200 의 합은 300 입니다.\n"
     ]
    }
   ],
   "source": [
    "#global 키워드를 사용한 전역변수의 참조 방법\n",
    "def print_sum():\n",
    "    global a, b # a, b는 함수외부에서 선언된 a, b를 사용한다.\n",
    "    a = 100\n",
    "    b = 200\n",
    "    result = a + b\n",
    "    print('print_sum() 내부 :', a, '과', b, '의 합은', result, '입니다.')\n",
    "a = 10\n",
    "b = 20\n",
    "print_sum()\n",
    "result = a + b\n",
    "print('print_sum() 외부 :', a, '과', b, '의 합은', result, '입니다.')"
   ]
  },
  {
   "cell_type": "markdown",
   "id": "67eb8484",
   "metadata": {},
   "source": [
    "### 함수의 인자 전달 방식"
   ]
  },
  {
   "cell_type": "code",
   "execution_count": 99,
   "id": "47eb43f6",
   "metadata": {},
   "outputs": [
    {
     "ename": "TypeError",
     "evalue": "print_star() missing 1 required positional argument: 'n'",
     "output_type": "error",
     "traceback": [
      "\u001b[1;31m---------------------------------------------------------------------------\u001b[0m",
      "\u001b[1;31mTypeError\u001b[0m                                 Traceback (most recent call last)",
      "Cell \u001b[1;32mIn[99], line 4\u001b[0m\n\u001b[0;32m      2\u001b[0m     \u001b[38;5;28;01mfor\u001b[39;00m _ \u001b[38;5;129;01min\u001b[39;00m \u001b[38;5;28mrange\u001b[39m(n):\n\u001b[0;32m      3\u001b[0m         \u001b[38;5;28mprint\u001b[39m(\u001b[38;5;124m'\u001b[39m\u001b[38;5;124m************************\u001b[39m\u001b[38;5;124m'\u001b[39m)\n\u001b[1;32m----> 4\u001b[0m print_star()\n",
      "\u001b[1;31mTypeError\u001b[0m: print_star() missing 1 required positional argument: 'n'"
     ]
    }
   ],
   "source": [
    "#인자를 빠뜨린 호츨-> 에러\n",
    "def print_star(n): # 인자를 필요로 함\n",
    "    for _ in range(n):\n",
    "        print('************************')\n",
    "print_star()"
   ]
  },
  {
   "cell_type": "code",
   "execution_count": 101,
   "id": "a97a9f9e",
   "metadata": {},
   "outputs": [
    {
     "name": "stdout",
     "output_type": "stream",
     "text": [
      "************************\n"
     ]
    }
   ],
   "source": [
    "#디폴트 값을 가지는 print_star() 함수\n",
    "def print_star(n = 1): # 매개변수 n은 디폴트 값 1을 가짐\n",
    "    for _ in range(n):\n",
    "        print('************************')\n",
    "print_star() # 인자가 없더라도 에러 없이 수행됨"
   ]
  },
  {
   "cell_type": "code",
   "execution_count": 102,
   "id": "f849ab52",
   "metadata": {},
   "outputs": [
    {
     "name": "stdout",
     "output_type": "stream",
     "text": [
      "************************\n"
     ]
    }
   ],
   "source": [
    "#인자가 없이 호출해도 디폴트 값 1을 매개변수 n에 전달하므로\n",
    "#한 줄의 별표 라인이 정상적으로 출력됨\n",
    "\n",
    "def print_star(n = 1): # 매개변수 n은 디폴트 값 1을 가짐\n",
    "    for _ in range(n):\n",
    "        print('************************')\n",
    "print_star() # 인자가 없더라도 에러 없이 수행됨"
   ]
  },
  {
   "cell_type": "markdown",
   "id": "87c4a66f",
   "metadata": {},
   "source": [
    "### 함수의 인자 전달 방식"
   ]
  },
  {
   "cell_type": "code",
   "execution_count": 106,
   "id": "723d49be",
   "metadata": {},
   "outputs": [
    {
     "ename": "TypeError",
     "evalue": "print_star() missing 1 required positional argument: 'n'",
     "output_type": "error",
     "traceback": [
      "\u001b[1;31m---------------------------------------------------------------------------\u001b[0m",
      "\u001b[1;31mTypeError\u001b[0m                                 Traceback (most recent call last)",
      "Cell \u001b[1;32mIn[106], line 4\u001b[0m\n\u001b[0;32m      2\u001b[0m     \u001b[38;5;28;01mfor\u001b[39;00m _ \u001b[38;5;129;01min\u001b[39;00m \u001b[38;5;28mrange\u001b[39m(n):\n\u001b[0;32m      3\u001b[0m         \u001b[38;5;28mprint\u001b[39m(\u001b[38;5;124m'\u001b[39m\u001b[38;5;124m************************\u001b[39m\u001b[38;5;124m'\u001b[39m)\n\u001b[1;32m----> 4\u001b[0m print_star()\n",
      "\u001b[1;31mTypeError\u001b[0m: print_star() missing 1 required positional argument: 'n'"
     ]
    }
   ],
   "source": [
    "def print_star(n): # 인자를 필요로 함\n",
    "    for _ in range(n):\n",
    "        print('************************')\n",
    "print_star() # 인자가 없으므로 에러 발생"
   ]
  },
  {
   "cell_type": "code",
   "execution_count": 105,
   "id": "3f9d6ae8",
   "metadata": {},
   "outputs": [
    {
     "name": "stdout",
     "output_type": "stream",
     "text": [
      "************************\n"
     ]
    }
   ],
   "source": [
    "def print_star(n = 1): # 매개변수 n은 디폴트 값 1을 가짐\n",
    "    for _ in range(n):\n",
    "        print('************************')\n",
    "print_star() # 인자가 없더라도 에러 없이 수행됨"
   ]
  },
  {
   "cell_type": "code",
   "execution_count": 107,
   "id": "506555ad",
   "metadata": {},
   "outputs": [
    {
     "name": "stdout",
     "output_type": "stream",
     "text": [
      "div(4) = 2.0\n",
      "div(6, 3) = 2.0\n"
     ]
    }
   ],
   "source": [
    "#• 두 개의 매개변수를 사용하는 div()라는 함수\n",
    "#• 두 번째 매개변수에 2라는 디폴트 값을 할당\n",
    "\n",
    "def div(a, b = 2):\n",
    "    return a / b\n",
    "print('div(4) =', div(4))\n",
    "print('div(6, 3) =', div(6, 3))"
   ]
  },
  {
   "cell_type": "code",
   "execution_count": 109,
   "id": "929baa62",
   "metadata": {},
   "outputs": [
    {
     "name": "stdout",
     "output_type": "stream",
     "text": [
      "div() = 0.5\n",
      "div(4) = 2.0\n",
      "div(6, 3) = 2.0\n"
     ]
    }
   ],
   "source": [
    "def div(a = 1, b = 2):\n",
    "    return a / b\n",
    "print('div() =', div()) # 인자가 없을 경우 div(1, 2)로 간주\n",
    "print('div(4) =', div(4)) # div(4, 2)로 간주함\n",
    "print('div(6, 3) =', div(6, 3))"
   ]
  },
  {
   "cell_type": "markdown",
   "id": "a8d73ce1",
   "metadata": {},
   "source": [
    "### 키워드 인자"
   ]
  },
  {
   "cell_type": "code",
   "execution_count": 111,
   "id": "0f9e61ac",
   "metadata": {},
   "outputs": [
    {
     "name": "stdout",
     "output_type": "stream",
     "text": [
      "해는 2.0 또는 -4.0\n"
     ]
    }
   ],
   "source": [
    "#2차 방정식의 근을 구하는 함수와 함수 호출문\n",
    "\n",
    "def get_root(a, b, c):\n",
    "    r1 = (-b + (b ** 2 - 4 * a * c) ** 0.5) / (2 * a)\n",
    "    r2 = (-b - (b ** 2 - 4 * a * c) ** 0.5) / (2 * a)\n",
    "    return r1, r2\n",
    "# 함수 호출시 인자를 1, 2, -8 인자를 사용함.\n",
    "# result1, result2를 이용해서 결과 값을 반환 받는다.\n",
    "result1, result2 = get_root(1, 2, -8)\n",
    "print('해는', result1, '또는', result2)\n"
   ]
  },
  {
   "cell_type": "markdown",
   "id": "1aeb1dfb",
   "metadata": {},
   "source": [
    "### 가변인자"
   ]
  },
  {
   "cell_type": "code",
   "execution_count": 41,
   "id": "91b330eb",
   "metadata": {},
   "outputs": [
    {
     "name": "stdout",
     "output_type": "stream",
     "text": [
      "안녕하세요 홍길동 씨\n",
      "안녕하세요 성춘향 씨\n",
      "안녕하세요 마당쇠 씨\n",
      "안녕하세요 James 씨\n",
      "안녕하세요 Thomas 씨\n"
     ]
    }
   ],
   "source": [
    "def greet(*names): #*names는 가변인자이다.\n",
    "    for name in names:\n",
    "        print('안녕하세요',name, '씨')\n",
    "greet('홍길동','성춘향','마당쇠')\n",
    "greet('James','Thomas')"
   ]
  },
  {
   "cell_type": "code",
   "execution_count": 45,
   "id": "f88c0967",
   "metadata": {},
   "outputs": [
    {
     "name": "stdout",
     "output_type": "stream",
     "text": [
      "인자의 개수: 3\n",
      "인자들: (10, 20, 30)\n"
     ]
    }
   ],
   "source": [
    "def foo(*args):\n",
    "    print('인자의 개수:', len(args)) #len():길이를 구하는 함수\n",
    "    print('인자들:',args)\n",
    "\n",
    "foo (10,20,30)"
   ]
  },
  {
   "cell_type": "code",
   "execution_count": 47,
   "id": "0b9e6f80",
   "metadata": {},
   "outputs": [
    {
     "name": "stdout",
     "output_type": "stream",
     "text": [
      "150\n"
     ]
    }
   ],
   "source": [
    "#가변 인자를 가지는 함수를 이용해서 합계 구하기\n",
    "\n",
    "def sum_nums(*numbers):\n",
    "    result = 0\n",
    "    for n in numbers:\n",
    "        result= result + n\n",
    "    return result\n",
    "   \n",
    "n1 = sum_nums(10,20,30,40,50)\n",
    "print(n1)"
   ]
  },
  {
   "cell_type": "code",
   "execution_count": 48,
   "id": "57108c63",
   "metadata": {},
   "outputs": [
    {
     "name": "stdout",
     "output_type": "stream",
     "text": [
      "enter your name: \n",
      "홍길동\n",
      "Hello 홍길동 !\n"
     ]
    }
   ],
   "source": [
    "print('enter your name: ')\n",
    "name = input()\n",
    "print('Hello', name, '!')"
   ]
  },
  {
   "cell_type": "markdown",
   "id": "ca99dc75",
   "metadata": {},
   "source": [
    "### 고급 format() 메소드"
   ]
  },
  {
   "cell_type": "code",
   "execution_count": 115,
   "id": "f898834d",
   "metadata": {},
   "outputs": [
    {
     "name": "stdout",
     "output_type": "stream",
     "text": [
      "1/3은 0.333\n"
     ]
    }
   ],
   "source": [
    "#실수 표현을 위한 포매팅에서 소수점\n",
    "print('1/3은 {:.3f}'.format(1/3))"
   ]
  },
  {
   "cell_type": "code",
   "execution_count": 116,
   "id": "57af0513",
   "metadata": {},
   "outputs": [
    {
     "name": "stdout",
     "output_type": "stream",
     "text": [
      "1,234,567,890\n"
     ]
    }
   ],
   "source": [
    "#1000 단위 쉼표 출력방법\n",
    "print('{:,}'.format(1234567890)) # 1000단위 쉼표 출력"
   ]
  },
  {
   "cell_type": "markdown",
   "id": "9703dacb",
   "metadata": {},
   "source": [
    "# 5장 리스트"
   ]
  },
  {
   "cell_type": "code",
   "execution_count": 51,
   "id": "5a32d7c9",
   "metadata": {},
   "outputs": [
    {
     "data": {
      "text/plain": [
       "[87, 84, 95, 67, 88, 94, 63]"
      ]
     },
     "execution_count": 51,
     "metadata": {},
     "output_type": "execute_result"
    }
   ],
   "source": [
    "score_list = [87, 84, 95, 67, 88, 94, 63]\n",
    "score_list"
   ]
  },
  {
   "cell_type": "code",
   "execution_count": 117,
   "id": "f05b32b8",
   "metadata": {},
   "outputs": [
    {
     "data": {
      "text/plain": [
       "[100, 200, 'apple', 400]"
      ]
     },
     "execution_count": 117,
     "metadata": {},
     "output_type": "execute_result"
    }
   ],
   "source": [
    "mixed_list = [100, 200, 'apple', 400]\n",
    "mixed_list"
   ]
  },
  {
   "cell_type": "code",
   "execution_count": 55,
   "id": "d51dbb41",
   "metadata": {},
   "outputs": [
    {
     "data": {
      "text/plain": [
       "['banana', 'apple', 'orange', 'kiwi']"
      ]
     },
     "execution_count": 55,
     "metadata": {},
     "output_type": "execute_result"
    }
   ],
   "source": [
    "fruits = ['banana', 'apple', 'orange', 'kiwi'] # 문자열을 가지는 리스트\n",
    "fruits"
   ]
  },
  {
   "cell_type": "code",
   "execution_count": 56,
   "id": "c1dc11f3",
   "metadata": {},
   "outputs": [
    {
     "data": {
      "text/plain": [
       "[1, 2, 3]"
      ]
     },
     "execution_count": 56,
     "metadata": {},
     "output_type": "execute_result"
    }
   ],
   "source": [
    "list1 = list() # 빈 리스트 생성하기 1\n",
    "list2 = [] # 빈 리스트 생성하기 2\n",
    "list3 = list((1, 2, 3)) # 튜플로부터 리스트 생성\n",
    "list3"
   ]
  },
  {
   "cell_type": "code",
   "execution_count": 57,
   "id": "8927b421",
   "metadata": {},
   "outputs": [
    {
     "data": {
      "text/plain": [
       "[1, 2, 3, 4, 5, 6, 7, 8, 9]"
      ]
     },
     "execution_count": 57,
     "metadata": {},
     "output_type": "execute_result"
    }
   ],
   "source": [
    "list4 = list(range(1, 10)) # range() 함수로부터 리스트 생성\n",
    "list4"
   ]
  },
  {
   "cell_type": "code",
   "execution_count": 58,
   "id": "a236d5fd",
   "metadata": {},
   "outputs": [
    {
     "data": {
      "text/plain": [
       "[11, 22, 33, 44, 55, 66]"
      ]
     },
     "execution_count": 58,
     "metadata": {},
     "output_type": "execute_result"
    }
   ],
   "source": [
    "n_list = [11, 22, 33, 44, 55, 66]\n",
    "n_list\n"
   ]
  },
  {
   "cell_type": "code",
   "execution_count": 59,
   "id": "1651e083",
   "metadata": {},
   "outputs": [
    {
     "data": {
      "text/plain": [
       "66"
      ]
     },
     "execution_count": 59,
     "metadata": {},
     "output_type": "execute_result"
    }
   ],
   "source": [
    "n_list = [11, 22, 33, 44, 55, 66]\n",
    "n_list[-1]"
   ]
  },
  {
   "cell_type": "code",
   "execution_count": 60,
   "id": "a5fde304",
   "metadata": {},
   "outputs": [
    {
     "data": {
      "text/plain": [
       "['a', 'b', 'c', 'd', 'e', 'f']"
      ]
     },
     "execution_count": 60,
     "metadata": {},
     "output_type": "execute_result"
    }
   ],
   "source": [
    "a_list = ['a', 'b', 'c', 'd', 'e']\n",
    "a_list.append('f') # 'f' 항목 추가\n",
    "a_list"
   ]
  },
  {
   "cell_type": "code",
   "execution_count": 61,
   "id": "95e021af",
   "metadata": {},
   "outputs": [
    {
     "name": "stdout",
     "output_type": "stream",
     "text": [
      "[11, 22, 33, 44, 55, 66]\n",
      "[11, 22, 33, 55, 66]\n"
     ]
    }
   ],
   "source": [
    "n_list = [11, 22, 33, 44, 55, 66]\n",
    "print(n_list) # 전체 항목 출력\n",
    "del n_list[3] # 네 번째 항목(44) 삭제\n",
    "print(n_list)"
   ]
  },
  {
   "cell_type": "code",
   "execution_count": 62,
   "id": "bb85e9f2",
   "metadata": {},
   "outputs": [
    {
     "data": {
      "text/plain": [
       "True"
      ]
     },
     "execution_count": 62,
     "metadata": {},
     "output_type": "execute_result"
    }
   ],
   "source": [
    "a_list = [10, 20, 30, 40] # 리스트의 요소로 10이 있으므로 참\n",
    "\n",
    "10 in a_list"
   ]
  },
  {
   "cell_type": "code",
   "execution_count": 64,
   "id": "f1996c6b",
   "metadata": {},
   "outputs": [
    {
     "data": {
      "text/plain": [
       "False"
      ]
     },
     "execution_count": 64,
     "metadata": {},
     "output_type": "execute_result"
    }
   ],
   "source": [
    "a_list = [10, 20, 30, 40]\n",
    "50 in a_list # 리스트의 요소로 50이 없으므로 거짓\n"
   ]
  },
  {
   "cell_type": "code",
   "execution_count": 65,
   "id": "d87be24c",
   "metadata": {},
   "outputs": [
    {
     "name": "stdout",
     "output_type": "stream",
     "text": [
      "False\n",
      "True\n"
     ]
    }
   ],
   "source": [
    "# in 연산자의 사용\n",
    "n_list = [11, 22, 33, 44, 55, 66]\n",
    "print(88 in n_list) # 88은 n_list에 없음\n",
    "print(55 in n_list) # 55는 n_list에 있음"
   ]
  },
  {
   "cell_type": "markdown",
   "id": "54d39b6c",
   "metadata": {},
   "source": [
    "### 멤버 연산자 : in, not in"
   ]
  },
  {
   "cell_type": "code",
   "execution_count": 67,
   "id": "8846261a",
   "metadata": {},
   "outputs": [
    {
     "name": "stdout",
     "output_type": "stream",
     "text": [
      "[11, 22, 33, 44, 66]\n"
     ]
    }
   ],
   "source": [
    "#• in 연산을 사용하여 오류 발생을 미리 방지\n",
    "#• 리스트 내부에 지우고자 하는 값이 있는 지 확인\n",
    "\n",
    "n_list = [11, 22, 33, 44, 55, 66]\n",
    "if (55 in n_list) : # 리스트의 요소로 55가 있을 경우\n",
    "    n_list.remove(55) # 리스트에서 55를 삭제함\n",
    "if (88 in n_list) : # 리스트의 요소로 88이 있을 경우\n",
    "    n_list.remove(88) # 리스트에서 88을 삭제함\n",
    "print(n_list)"
   ]
  },
  {
   "cell_type": "markdown",
   "id": "05e4576a",
   "metadata": {},
   "source": [
    "### 리스트에 적용되는 내장함수"
   ]
  },
  {
   "cell_type": "code",
   "execution_count": 71,
   "id": "c3cadff7",
   "metadata": {},
   "outputs": [
    {
     "data": {
      "text/plain": [
       "'바나나'"
      ]
     },
     "execution_count": 71,
     "metadata": {},
     "output_type": "execute_result"
    }
   ],
   "source": [
    "# min()과 max()는 한글 문자열을 요소로 가지는 리스트에도 동작\n",
    "\n",
    "k_fruits = ['사과', '오렌지', '포도', '바나나']\n",
    "min(k_fruits)"
   ]
  },
  {
   "cell_type": "code",
   "execution_count": 72,
   "id": "f685c620",
   "metadata": {},
   "outputs": [
    {
     "data": {
      "text/plain": [
       "'포도'"
      ]
     },
     "execution_count": 72,
     "metadata": {},
     "output_type": "execute_result"
    }
   ],
   "source": [
    "k_fruits = ['사과', '오렌지', '포도', '바나나']\n",
    "max(k_fruits)"
   ]
  },
  {
   "cell_type": "markdown",
   "id": "222b964e",
   "metadata": {},
   "source": [
    "### 리스트가 제공하는 메소드"
   ]
  },
  {
   "cell_type": "code",
   "execution_count": 74,
   "id": "76120e8e",
   "metadata": {},
   "outputs": [
    {
     "data": {
      "text/plain": [
       "[10, 20, 30, 40, 50]"
      ]
     },
     "execution_count": 74,
     "metadata": {},
     "output_type": "execute_result"
    }
   ],
   "source": [
    "# sort\n",
    "list1 = [20, 10, 40, 50, 30]\n",
    "list1.sort() # list1의 원소를 오름차순 정렬\n",
    "list1"
   ]
  },
  {
   "cell_type": "code",
   "execution_count": 75,
   "id": "fb2abcb6",
   "metadata": {},
   "outputs": [
    {
     "data": {
      "text/plain": [
       "[50, 40, 30, 20, 10]"
      ]
     },
     "execution_count": 75,
     "metadata": {},
     "output_type": "execute_result"
    }
   ],
   "source": [
    "# list1의 원소를 내림차순 정렬\n",
    "list1.sort(reverse = True)\n",
    "list1"
   ]
  },
  {
   "cell_type": "code",
   "execution_count": 76,
   "id": "474bdb87",
   "metadata": {},
   "outputs": [
    {
     "data": {
      "text/plain": [
       "3"
      ]
     },
     "execution_count": 76,
     "metadata": {},
     "output_type": "execute_result"
    }
   ],
   "source": [
    "#count\n",
    "# 'a'가 몇 개 있는지 그 개수를 반환\n",
    "b_list = ['a', 'b', 'c', 'a', 'b', 'a']\n",
    "b_list.count('a')"
   ]
  },
  {
   "cell_type": "code",
   "execution_count": 77,
   "id": "e4ad3268",
   "metadata": {},
   "outputs": [
    {
     "data": {
      "text/plain": [
       "['a', 'b', 'c', 1, 2, 3]"
      ]
     },
     "execution_count": 77,
     "metadata": {},
     "output_type": "execute_result"
    }
   ],
   "source": [
    "#extend\n",
    "list1 = ['a', 'b', 'c']\n",
    "list2 = [1, 2, 3]\n",
    "list1.extend(list2)\n",
    "list1"
   ]
  },
  {
   "cell_type": "code",
   "execution_count": 79,
   "id": "3aecac9e",
   "metadata": {},
   "outputs": [
    {
     "data": {
      "text/plain": [
       "['a', 'b', 'c', 'd']"
      ]
     },
     "execution_count": 79,
     "metadata": {},
     "output_type": "execute_result"
    }
   ],
   "source": [
    "#insert() \n",
    "list1 = ['a', 'c', 'd']\n",
    "list1.insert(1, 'b')\n",
    "list1"
   ]
  },
  {
   "cell_type": "code",
   "execution_count": 80,
   "id": "22e12c30",
   "metadata": {},
   "outputs": [
    {
     "data": {
      "text/plain": [
       "['a', 'c', 'b', 'd']"
      ]
     },
     "execution_count": 80,
     "metadata": {},
     "output_type": "execute_result"
    }
   ],
   "source": [
    "#remove()\n",
    "list1 = ['a', 'b', 'c', 'b', 'd']\n",
    "list1.remove('b') # 제일 먼저 나타나는 'b' 원소를 삭제함\n",
    "list1"
   ]
  },
  {
   "cell_type": "code",
   "execution_count": 81,
   "id": "352577d3",
   "metadata": {},
   "outputs": [
    {
     "data": {
      "text/plain": [
       "'d'"
      ]
     },
     "execution_count": 81,
     "metadata": {},
     "output_type": "execute_result"
    }
   ],
   "source": [
    "#pop()\n",
    "list1 = ['a', 'b', 'c', 'd']\n",
    "list1.pop() "
   ]
  },
  {
   "cell_type": "code",
   "execution_count": 83,
   "id": "c2941b22",
   "metadata": {},
   "outputs": [
    {
     "data": {
      "text/plain": [
       "['a', 'b', 'c']"
      ]
     },
     "execution_count": 83,
     "metadata": {},
     "output_type": "execute_result"
    }
   ],
   "source": [
    "#remove()\n",
    "list1 = ['a', 'b', 'c', 'd']\n",
    "list1.remove(list1[-1]) # pop()과 유사하게 리스트의 마지막 원소 삭제\n",
    "list1"
   ]
  },
  {
   "cell_type": "code",
   "execution_count": 84,
   "id": "dbf0c183",
   "metadata": {},
   "outputs": [
    {
     "data": {
      "text/plain": [
       "[40, 30, 20, 10]"
      ]
     },
     "execution_count": 84,
     "metadata": {},
     "output_type": "execute_result"
    }
   ],
   "source": [
    "#reverse()\n",
    "list1 = [10, 20, 30, 40]\n",
    "list1.reverse() # 리스트의 원소를 역순으로 다시 배열함\n",
    "list1"
   ]
  },
  {
   "cell_type": "markdown",
   "id": "196dcfef",
   "metadata": {},
   "source": [
    "### 리스트와 연산\n",
    "리스트 사이에서는 더하기 연산자 사용 가능\n",
    "빼기 연산자나 곱하기, 나누기 연산자는 사용 불가"
   ]
  },
  {
   "cell_type": "code",
   "execution_count": 85,
   "id": "6e87d8e0",
   "metadata": {},
   "outputs": [
    {
     "name": "stdout",
     "output_type": "stream",
     "text": [
      "[11, 22, 33, 44]\n",
      "[11, 22, 33, 44, 55, 66]\n"
     ]
    }
   ],
   "source": [
    "# 두 리스트를 합치는 연산자\n",
    "\n",
    "list1 = [11, 22, 33, 44]\n",
    "list2 = [55, 66]\n",
    "print(list1)\n",
    "print(list1 + list2)"
   ]
  },
  {
   "cell_type": "code",
   "execution_count": null,
   "id": "3422f9d4",
   "metadata": {},
   "outputs": [],
   "source": [
    "#리스트의 곱셈 연산"
   ]
  },
  {
   "cell_type": "code",
   "execution_count": 87,
   "id": "716e12cc",
   "metadata": {},
   "outputs": [
    {
     "data": {
      "text/plain": [
       "[1, 2, 3, 4, 1, 2, 3, 4, 1, 2, 3, 4]"
      ]
     },
     "execution_count": 87,
     "metadata": {},
     "output_type": "execute_result"
    }
   ],
   "source": [
    "list1 = [1, 2, 3, 4]\n",
    "list1 * 2\n",
    "\n",
    "list2 = list1 * 3 # list1 * 3의 결과를 list2에 할당\n",
    "list2"
   ]
  },
  {
   "cell_type": "code",
   "execution_count": 88,
   "id": "2596d815",
   "metadata": {},
   "outputs": [
    {
     "data": {
      "text/plain": [
       "True"
      ]
     },
     "execution_count": 88,
     "metadata": {},
     "output_type": "execute_result"
    }
   ],
   "source": [
    "#==연산자\n",
    "list1 = [1, 2, 3, 4]\n",
    "list2 = [1, 2, 3, 4]\n",
    "list1 == list2"
   ]
  },
  {
   "cell_type": "code",
   "execution_count": 90,
   "id": "d0d13014",
   "metadata": {},
   "outputs": [
    {
     "data": {
      "text/plain": [
       "False"
      ]
     },
     "execution_count": 90,
     "metadata": {},
     "output_type": "execute_result"
    }
   ],
   "source": [
    "#>,>=,<.<=\n",
    "list1 = [1, 2, 3, 4]\n",
    "list2 = [2, 3, 3, 4]\n",
    "list1 > list2"
   ]
  },
  {
   "cell_type": "code",
   "execution_count": 92,
   "id": "30d5ca85",
   "metadata": {},
   "outputs": [
    {
     "name": "stdout",
     "output_type": "stream",
     "text": [
      "[100, 200, 300, 400, 500]\n"
     ]
    }
   ],
   "source": [
    "#for 문을 통해 리스트의 항목을 하나하나씩 나열 또는 연산 가\n",
    "list1 = [10, 20, 30, 40, 50]\n",
    "i = 0\n",
    "for n in list1:\n",
    "    list1[i] = n * 10\n",
    "    i = i + 1\n",
    "print(list1)"
   ]
  },
  {
   "cell_type": "code",
   "execution_count": 93,
   "id": "4b27c304",
   "metadata": {},
   "outputs": [
    {
     "data": {
      "text/plain": [
       "[20, 30, 40, 50]"
      ]
     },
     "execution_count": 93,
     "metadata": {},
     "output_type": "execute_result"
    }
   ],
   "source": [
    "#리스트의 슬라이싱\n",
    "a_list = [10, 20, 30, 40, 50, 60, 70, 80]\n",
    "a_list[1:5]"
   ]
  },
  {
   "cell_type": "markdown",
   "id": "cca3672b",
   "metadata": {},
   "source": [
    "# 딕셔너리"
   ]
  },
  {
   "cell_type": "code",
   "execution_count": 3,
   "id": "dda01275",
   "metadata": {},
   "outputs": [
    {
     "name": "stdout",
     "output_type": "stream",
     "text": [
      "홍길동\n",
      "26\n",
      "82\n"
     ]
    }
   ],
   "source": [
    "#person 딕셔너리의 생성과 조회\n",
    "\n",
    "person = {'이름' : '홍길동', '나이' : 26, '몸무게' : 82 }\n",
    "print(person['이름'])\n",
    "print(person['나이'])\n",
    "print(person['몸무게'])"
   ]
  },
  {
   "cell_type": "code",
   "execution_count": 4,
   "id": "ce4e6134",
   "metadata": {},
   "outputs": [
    {
     "data": {
      "text/plain": [
       "{'이름': '홍길동', '나이': 26, '몸무게': 82, '직업': '율도국의 왕'}"
      ]
     },
     "execution_count": 4,
     "metadata": {},
     "output_type": "execute_result"
    }
   ],
   "source": [
    "#딕셔너리의 항목 삽입\n",
    "person = {'이름' : '홍길동', '나이' : 26, '몸무게' : 82}\n",
    "person['직업'] = '율도국의 왕' # 새로운 키:값의 항목 삽입\n",
    "person"
   ]
  },
  {
   "cell_type": "code",
   "execution_count": 5,
   "id": "8027e19f",
   "metadata": {},
   "outputs": [
    {
     "data": {
      "text/plain": [
       "{'이름': '홍길동', '나이': 27, '몸무게': 82}"
      ]
     },
     "execution_count": 5,
     "metadata": {},
     "output_type": "execute_result"
    }
   ],
   "source": [
    "#딕셔너리의 항목 수정\n",
    "person = {'이름' : '홍길동', '나이' : 26, '몸무게' : 82}\n",
    "person['나이'] = 27\n",
    "person"
   ]
  },
  {
   "cell_type": "code",
   "execution_count": 6,
   "id": "27a750f1",
   "metadata": {},
   "outputs": [
    {
     "data": {
      "text/plain": [
       "{'이름': '홍길동', '몸무게': 82}"
      ]
     },
     "execution_count": 6,
     "metadata": {},
     "output_type": "execute_result"
    }
   ],
   "source": [
    " #딕셔너리의 항목 삭제\n",
    "person = {'이름' : '홍길동', '나이' : 26, '몸무게' : 82 }\n",
    "del person['나이']\n",
    "person"
   ]
  },
  {
   "cell_type": "markdown",
   "id": "ae334b0a",
   "metadata": {},
   "source": [
    "### 딕셔너리를 위한 함수와 연산"
   ]
  },
  {
   "cell_type": "raw",
   "id": "773ab4c9",
   "metadata": {},
   "source": [
    "• len()\n",
    "• 딕셔너리 내의 항목의 수를\n",
    "얻기 위해 사용\n",
    "• in , not in\n",
    "• 키와 값이 딕셔너리에\n",
    "있는지 확인\n",
    "• ==, !=\n",
    "• 두 개의 딕셔너리가 동일한\n",
    "항목을 가지고 있는지 확인\n",
    "• 딕셔너리에서는 >, >=, <, <=와 같은 비교연산을 지원하지 않\n",
    "는다."
   ]
  },
  {
   "cell_type": "code",
   "execution_count": 11,
   "id": "128598ca",
   "metadata": {},
   "outputs": [
    {
     "name": "stdout",
     "output_type": "stream",
     "text": [
      "dict_keys(['이름', '나이', '몸무게'])\n",
      "dict_values(['홍길동', 26, 82])\n",
      "dict_items([('이름', '홍길동'), ('나이', 26), ('몸무게', 82)])\n"
     ]
    }
   ],
   "source": [
    "#딕셔너리의 keys(), values(), items() 메소드\n",
    "person = {'이름' : '홍길동', '나이' : 26, '몸무게': 82}\n",
    "print(person.keys())\n",
    "print(person.values())\n",
    "print(person.items())"
   ]
  },
  {
   "cell_type": "raw",
   "id": "23035f86",
   "metadata": {},
   "source": [
    "get() 메소드는 키를 인자로 넣어서 이 키가 딕셔너리에 있을 경\n",
    "우 값을 반환하며, 키가 없을 경우 None이라는 값을 반환"
   ]
  },
  {
   "cell_type": "code",
   "execution_count": 15,
   "id": "63883fa7",
   "metadata": {},
   "outputs": [
    {
     "name": "stdout",
     "output_type": "stream",
     "text": [
      "None\n",
      "홍길동\n"
     ]
    }
   ],
   "source": [
    "person = {'이름' : '홍길동', '나이' : 26, '몸무게': 82}\n",
    "print(person.get('취미')) # '취미' 키가 없으므로 None을 반환함\n",
    "print(person.get('이름'))"
   ]
  },
  {
   "cell_type": "code",
   "execution_count": null,
   "id": "aa4b585b",
   "metadata": {},
   "outputs": [],
   "source": []
  },
  {
   "cell_type": "code",
   "execution_count": null,
   "id": "66353547",
   "metadata": {},
   "outputs": [],
   "source": []
  },
  {
   "cell_type": "code",
   "execution_count": null,
   "id": "e041fd55",
   "metadata": {},
   "outputs": [],
   "source": []
  }
 ],
 "metadata": {
  "kernelspec": {
   "display_name": "Python 3 (ipykernel)",
   "language": "python",
   "name": "python3"
  },
  "language_info": {
   "codemirror_mode": {
    "name": "ipython",
    "version": 3
   },
   "file_extension": ".py",
   "mimetype": "text/x-python",
   "name": "python",
   "nbconvert_exporter": "python",
   "pygments_lexer": "ipython3",
   "version": "3.11.4"
  }
 },
 "nbformat": 4,
 "nbformat_minor": 5
}
