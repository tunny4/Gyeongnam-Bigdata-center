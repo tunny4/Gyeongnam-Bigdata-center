{
 "cells": [
  {
   "cell_type": "markdown",
   "id": "cffd071c",
   "metadata": {},
   "source": [
    "# 모듈과 활용"
   ]
  },
  {
   "cell_type": "markdown",
   "id": "378de432",
   "metadata": {},
   "source": [
    "### 날짜와 시간 모듈"
   ]
  },
  {
   "cell_type": "code",
   "execution_count": 4,
   "id": "f232083e",
   "metadata": {},
   "outputs": [
    {
     "data": {
      "text/plain": [
       "datetime.datetime(2023, 11, 22, 16, 26, 9, 88422)"
      ]
     },
     "execution_count": 4,
     "metadata": {},
     "output_type": "execute_result"
    }
   ],
   "source": [
    "#datetime 모듈\n",
    "import datetime\n",
    "datetime.datetime.now()"
   ]
  },
  {
   "cell_type": "code",
   "execution_count": 6,
   "id": "09b56a5e",
   "metadata": {},
   "outputs": [
    {
     "data": {
      "text/plain": [
       "datetime.datetime(2023, 11, 22, 16, 27, 43, 244393)"
      ]
     },
     "execution_count": 6,
     "metadata": {},
     "output_type": "execute_result"
    }
   ],
   "source": [
    "import datetime as dt\n",
    "datetime.datetime.now()"
   ]
  },
  {
   "cell_type": "code",
   "execution_count": 7,
   "id": "be1af6be",
   "metadata": {},
   "outputs": [
    {
     "name": "stdout",
     "output_type": "stream",
     "text": [
      "<built-in method today of type object at 0x00007FF924379790>\n"
     ]
    }
   ],
   "source": [
    "today=datetime.date.today\n",
    "print(today)"
   ]
  },
  {
   "cell_type": "code",
   "execution_count": 10,
   "id": "beb1bf4f",
   "metadata": {},
   "outputs": [
    {
     "data": {
      "text/plain": [
       "datetime.date(2023, 11, 22)"
      ]
     },
     "execution_count": 10,
     "metadata": {},
     "output_type": "execute_result"
    }
   ],
   "source": [
    "today=datetime.date.today()\n",
    "today"
   ]
  },
  {
   "cell_type": "code",
   "execution_count": 11,
   "id": "0806874b",
   "metadata": {},
   "outputs": [
    {
     "data": {
      "text/plain": [
       "2023"
      ]
     },
     "execution_count": 11,
     "metadata": {},
     "output_type": "execute_result"
    }
   ],
   "source": [
    "today.year"
   ]
  },
  {
   "cell_type": "code",
   "execution_count": 12,
   "id": "2a243d53",
   "metadata": {},
   "outputs": [
    {
     "data": {
      "text/plain": [
       "11"
      ]
     },
     "execution_count": 12,
     "metadata": {},
     "output_type": "execute_result"
    }
   ],
   "source": [
    "today.month"
   ]
  },
  {
   "cell_type": "code",
   "execution_count": 13,
   "id": "e0110cac",
   "metadata": {},
   "outputs": [
    {
     "data": {
      "text/plain": [
       "22"
      ]
     },
     "execution_count": 13,
     "metadata": {},
     "output_type": "execute_result"
    }
   ],
   "source": [
    "today.day"
   ]
  },
  {
   "cell_type": "code",
   "execution_count": 18,
   "id": "0e683b34",
   "metadata": {},
   "outputs": [
    {
     "data": {
      "text/plain": [
       "datetime.datetime(2023, 11, 22, 16, 37, 8, 220033)"
      ]
     },
     "execution_count": 18,
     "metadata": {},
     "output_type": "execute_result"
    }
   ],
   "source": [
    "from datetime import datetime\n",
    "start_time=datetime.now()\n",
    "start_time"
   ]
  },
  {
   "cell_type": "code",
   "execution_count": 19,
   "id": "fdd80477",
   "metadata": {},
   "outputs": [
    {
     "data": {
      "text/plain": [
       "datetime.datetime(2023, 12, 25, 16, 37, 8, 220033)"
      ]
     },
     "execution_count": 19,
     "metadata": {},
     "output_type": "execute_result"
    }
   ],
   "source": [
    "start_time.replace(month=12,day=25)"
   ]
  },
  {
   "cell_type": "code",
   "execution_count": 21,
   "id": "dc63ab18",
   "metadata": {},
   "outputs": [
    {
     "name": "stdout",
     "output_type": "stream",
     "text": [
      "에폭 이후의 시간= 1700638858.7890255\n"
     ]
    }
   ],
   "source": [
    "#time 모듈\n",
    "#time 모듈을 이용한 에폭 이후의 시간 출력\n",
    "import time\n",
    "seconds=time.time()\n",
    "print('에폭 이후의 시간=',seconds)"
   ]
  },
  {
   "cell_type": "code",
   "execution_count": 25,
   "id": "889e30d1",
   "metadata": {},
   "outputs": [
    {
     "name": "stdout",
     "output_type": "stream",
     "text": [
      "2023-11-22 16:45:53\n"
     ]
    }
   ],
   "source": [
    "import time\n",
    "\n",
    "unix_timestamp=time.time()\n",
    "local_time=time.localtime(unix_timestamp)\n",
    "print(time.strftime('%Y-%m-%d %H:%M:%S', local_time))"
   ]
  },
  {
   "cell_type": "code",
   "execution_count": 26,
   "id": "0b83f907",
   "metadata": {},
   "outputs": [
    {
     "name": "stdout",
     "output_type": "stream",
     "text": [
      "**********\n",
      "5초 후에 출력\n"
     ]
    }
   ],
   "source": [
    "import time\n",
    "print('**********')\n",
    "time.sleep(5)\n",
    "\n",
    "print('5초 후에 출력')"
   ]
  },
  {
   "cell_type": "code",
   "execution_count": 31,
   "id": "6255342a",
   "metadata": {},
   "outputs": [
    {
     "name": "stdout",
     "output_type": "stream",
     "text": [
      "3628800\n",
      "계산에 걸리는 시간:, 1700640421.1902초\n"
     ]
    }
   ],
   "source": [
    "import time\n",
    "\n",
    "start_time= time.time()\n",
    "\n",
    "print(1*2*3*4*5*6*7*8*9*10)\n",
    "\n",
    "end_time=time.time()\n",
    "\n",
    "gap=end_time=start_time\n",
    "\n",
    "print('계산에 걸리는 시간:, {:7.4f}초'.format(gap))"
   ]
  },
  {
   "cell_type": "markdown",
   "id": "8e0eb384",
   "metadata": {},
   "source": [
    "# 수학 관련 모듈 math"
   ]
  },
  {
   "cell_type": "code",
   "execution_count": 34,
   "id": "4c1f1dab",
   "metadata": {},
   "outputs": [
    {
     "data": {
      "text/plain": [
       "27.0"
      ]
     },
     "execution_count": 34,
     "metadata": {},
     "output_type": "execute_result"
    }
   ],
   "source": [
    "import math as m\n",
    "m.pow(3,3) #3의 3제곱"
   ]
  },
  {
   "cell_type": "code",
   "execution_count": 35,
   "id": "4d315e7f",
   "metadata": {},
   "outputs": [
    {
     "data": {
      "text/plain": [
       "99.0"
      ]
     },
     "execution_count": 35,
     "metadata": {},
     "output_type": "execute_result"
    }
   ],
   "source": [
    "m.fabs(-99) # -99의 실수 절대값"
   ]
  },
  {
   "cell_type": "code",
   "execution_count": 36,
   "id": "51ec08bb",
   "metadata": {},
   "outputs": [
    {
     "data": {
      "text/plain": [
       "3"
      ]
     },
     "execution_count": 36,
     "metadata": {},
     "output_type": "execute_result"
    }
   ],
   "source": [
    "m.ceil(2.1) # 2.1의 올림값"
   ]
  },
  {
   "cell_type": "code",
   "execution_count": 37,
   "id": "0ab5f128",
   "metadata": {},
   "outputs": [
    {
     "data": {
      "text/plain": [
       "-2"
      ]
     },
     "execution_count": 37,
     "metadata": {},
     "output_type": "execute_result"
    }
   ],
   "source": [
    "m.ceil(-2.1) # -2.1의 올림값"
   ]
  },
  {
   "cell_type": "code",
   "execution_count": 38,
   "id": "f6599cb4",
   "metadata": {},
   "outputs": [
    {
     "data": {
      "text/plain": [
       "2"
      ]
     },
     "execution_count": 38,
     "metadata": {},
     "output_type": "execute_result"
    }
   ],
   "source": [
    "m.floor(2.1) # 2.1의 내림값"
   ]
  },
  {
   "cell_type": "code",
   "execution_count": 39,
   "id": "d6345cee",
   "metadata": {},
   "outputs": [
    {
     "data": {
      "text/plain": [
       "0.999999327347282"
      ]
     },
     "execution_count": 39,
     "metadata": {},
     "output_type": "execute_result"
    }
   ],
   "source": [
    "m.log(2.71828)"
   ]
  },
  {
   "cell_type": "code",
   "execution_count": 40,
   "id": "86dbc85f",
   "metadata": {},
   "outputs": [
    {
     "data": {
      "text/plain": [
       "2.0"
      ]
     },
     "execution_count": 40,
     "metadata": {},
     "output_type": "execute_result"
    }
   ],
   "source": [
    "m.log(100, 10) # 로그 10을 밑으로 하는 100값"
   ]
  },
  {
   "cell_type": "markdown",
   "id": "ceb8ed4a",
   "metadata": {},
   "source": [
    "# 랜덤 모듈"
   ]
  },
  {
   "cell_type": "code",
   "execution_count": 42,
   "id": "37dc881b",
   "metadata": {},
   "outputs": [
    {
     "data": {
      "text/plain": [
       "0.4589263553110071"
      ]
     },
     "execution_count": 42,
     "metadata": {},
     "output_type": "execute_result"
    }
   ],
   "source": [
    "import random as rd\n",
    "rd.random() # 0 이상 1 미만의 실수를 반환함"
   ]
  },
  {
   "cell_type": "code",
   "execution_count": 43,
   "id": "0028afb4",
   "metadata": {},
   "outputs": [
    {
     "data": {
      "text/plain": [
       "0.3719369795569696"
      ]
     },
     "execution_count": 43,
     "metadata": {},
     "output_type": "execute_result"
    }
   ],
   "source": [
    "rd.random() # 매번 다른 실수를 반환"
   ]
  },
  {
   "cell_type": "code",
   "execution_count": 44,
   "id": "1c2dd3e8",
   "metadata": {},
   "outputs": [
    {
     "data": {
      "text/plain": [
       "1"
      ]
     },
     "execution_count": 44,
     "metadata": {},
     "output_type": "execute_result"
    }
   ],
   "source": [
    " rd.randrange(1, 7) # 1 이상 7 미만의 정수를 반환"
   ]
  },
  {
   "cell_type": "code",
   "execution_count": 45,
   "id": "229850c7",
   "metadata": {},
   "outputs": [
    {
     "data": {
      "text/plain": [
       "8"
      ]
     },
     "execution_count": 45,
     "metadata": {},
     "output_type": "execute_result"
    }
   ],
   "source": [
    " rd.randrange(0, 10, 2) # 1 이상 10 미만 정수 중 2의 배수를 반환함"
   ]
  },
  {
   "cell_type": "code",
   "execution_count": 46,
   "id": "dcf5abe2",
   "metadata": {},
   "outputs": [
    {
     "data": {
      "text/plain": [
       "6"
      ]
     },
     "execution_count": 46,
     "metadata": {},
     "output_type": "execute_result"
    }
   ],
   "source": [
    " rd.randint(1, 10) # 1 이상 10 이하의(1, 10이 포함) 임의의 정수를 반환"
   ]
  },
  {
   "cell_type": "code",
   "execution_count": 48,
   "id": "6daaeb21",
   "metadata": {},
   "outputs": [
    {
     "data": {
      "text/plain": [
       "[50, 20, 40, 10, 30]"
      ]
     },
     "execution_count": 48,
     "metadata": {},
     "output_type": "execute_result"
    }
   ],
   "source": [
    "# random 모듈을 활용한 섞기와 고르기\n",
    "numlist = [10, 20, 30, 40, 50]\n",
    "rd.shuffle(numlist) # 리스트의 원소를 랜덤하게 섞는다\n",
    "numlist"
   ]
  },
  {
   "cell_type": "code",
   "execution_count": 49,
   "id": "4425b352",
   "metadata": {},
   "outputs": [
    {
     "data": {
      "text/plain": [
       "10"
      ]
     },
     "execution_count": 49,
     "metadata": {},
     "output_type": "execute_result"
    }
   ],
   "source": [
    "rd.choice(numlist) # 리스트의 원소들 중에서 랜덤하게 하나를 고른다"
   ]
  },
  {
   "cell_type": "code",
   "execution_count": 50,
   "id": "de2c6f74",
   "metadata": {},
   "outputs": [
    {
     "data": {
      "text/plain": [
       "[20, 30, 10]"
      ]
     },
     "execution_count": 50,
     "metadata": {},
     "output_type": "execute_result"
    }
   ],
   "source": [
    "rd.sample(numlist, 3) # 리스트의 원소들 중에서 랜덤하게 세개를 고른다"
   ]
  },
  {
   "cell_type": "code",
   "execution_count": 51,
   "id": "ffd1439a",
   "metadata": {},
   "outputs": [
    {
     "name": "stdout",
     "output_type": "stream",
     "text": [
      "[6, 10, 9, 4, 1, 3, 5, 8, 2, 7]\n"
     ]
    }
   ],
   "source": [
    "a = list(range(1, 11)) # 1에서 10까지의 연속적인 정수를 생성\n",
    "rd.shuffle(a) # 리스트의 원소를 랜덤하게 섞는다\n",
    "print(a)"
   ]
  },
  {
   "cell_type": "code",
   "execution_count": null,
   "id": "f608852e",
   "metadata": {},
   "outputs": [],
   "source": []
  }
 ],
 "metadata": {
  "kernelspec": {
   "display_name": "Python 3 (ipykernel)",
   "language": "python",
   "name": "python3"
  },
  "language_info": {
   "codemirror_mode": {
    "name": "ipython",
    "version": 3
   },
   "file_extension": ".py",
   "mimetype": "text/x-python",
   "name": "python",
   "nbconvert_exporter": "python",
   "pygments_lexer": "ipython3",
   "version": "3.11.4"
  }
 },
 "nbformat": 4,
 "nbformat_minor": 5
}
