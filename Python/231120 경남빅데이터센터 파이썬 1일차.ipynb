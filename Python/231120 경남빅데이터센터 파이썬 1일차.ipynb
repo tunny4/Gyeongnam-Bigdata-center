{
 "cells": [
  {
   "cell_type": "code",
   "execution_count": 2,
   "id": "74050669",
   "metadata": {},
   "outputs": [
    {
     "name": "stdout",
     "output_type": "stream",
     "text": [
      "안녕 내 이름은 홍길동 이야 내 나이는 27 입니다\n"
     ]
    }
   ],
   "source": [
    "name='홍길동'\n",
    "age= 27\n",
    "print ('안녕','내 이름은', name, '이야','내 나이는', age,'입니다')"
   ]
  },
  {
   "cell_type": "markdown",
   "id": "0ba93a71",
   "metadata": {},
   "source": [
    "숫자는 변수로 사용할 수 없다."
   ]
  },
  {
   "cell_type": "code",
   "execution_count": 3,
   "id": "232c0b73",
   "metadata": {},
   "outputs": [
    {
     "name": "stdout",
     "output_type": "stream",
     "text": [
      "강아지 이름은 \"햇님\"이야\n"
     ]
    }
   ],
   "source": []
  },
  {
   "cell_type": "code",
   "execution_count": 6,
   "id": "896b8d81",
   "metadata": {},
   "outputs": [
    {
     "name": "stdout",
     "output_type": "stream",
     "text": [
      "나이를 입력하세요: 25\n",
      "10년 후 나이: 35\n"
     ]
    }
   ],
   "source": [
    "age=int(input('나이를 입력하세요: '))\n",
    "print('10년 후 나이:',age+10)"
   ]
  },
  {
   "cell_type": "code",
   "execution_count": null,
   "id": "80bcb48a",
   "metadata": {},
   "outputs": [],
   "source": [
    "number=int(input('정수를 입력하세요'))"
   ]
  },
  {
   "cell_type": "code",
   "execution_count": 7,
   "id": "2a72c65a",
   "metadata": {},
   "outputs": [
    {
     "name": "stdout",
     "output_type": "stream",
     "text": [
      "Hello World!\n",
      "Hello World!\n",
      "Hello World!\n",
      "Hello World!\n",
      "Hello World!\n"
     ]
    }
   ],
   "source": [
    "for i in range(5):\n",
    "    print('Hello World!')"
   ]
  },
  {
   "cell_type": "code",
   "execution_count": 13,
   "id": "f5fecb67",
   "metadata": {},
   "outputs": [
    {
     "name": "stdout",
     "output_type": "stream",
     "text": [
      "1\n",
      "3\n",
      "6\n",
      "10\n",
      "15\n",
      "21\n",
      "28\n",
      "36\n",
      "45\n",
      "55\n"
     ]
    }
   ],
   "source": [
    "s=0\n",
    "for i in range(1,11):\n",
    "    s=s+i\n",
    "    print(s)"
   ]
  },
  {
   "cell_type": "code",
   "execution_count": 15,
   "id": "7e7cef4e",
   "metadata": {},
   "outputs": [
    {
     "name": "stdout",
     "output_type": "stream",
     "text": [
      "i=1,s=1\n",
      "i=2,s=2\n",
      "i=3,s=3\n",
      "i=4,s=4\n",
      "i=5,s=5\n",
      "i=6,s=6\n",
      "i=7,s=7\n",
      "i=8,s=8\n",
      "i=9,s=9\n",
      "i=10,s=10\n"
     ]
    }
   ],
   "source": [
    "s=0\n",
    "for i in range(1,11):\n",
    "    s=s=i\n",
    "    print('i={},s={}'.format(i,s))"
   ]
  },
  {
   "cell_type": "code",
   "execution_count": null,
   "id": "329f85fe",
   "metadata": {},
   "outputs": [],
   "source": [
    "n=int(input('합계를 할 수를 입력하세요:')) "
   ]
  },
  {
   "cell_type": "code",
   "execution_count": 17,
   "id": "9dc2b67b",
   "metadata": {},
   "outputs": [
    {
     "name": "stdout",
     "output_type": "stream",
     "text": [
      "11 22 33 44 55 66 "
     ]
    }
   ],
   "source": [
    "numbers=[11,22,33,44,55,66]\n",
    "\n",
    "for n in numbers:\n",
    "    print(n, end=' ')"
   ]
  },
  {
   "cell_type": "code",
   "execution_count": 19,
   "id": "afcfa199",
   "metadata": {},
   "outputs": [
    {
     "name": "stdout",
     "output_type": "stream",
     "text": [
      "10\n",
      "30\n",
      "60\n",
      "100\n",
      "150\n"
     ]
    }
   ],
   "source": [
    "numbers=[10,20,30,40,50]\n",
    "s=0\n",
    "for n in numbers:\n",
    "    s=s+n\n",
    "    print(s)"
   ]
  },
  {
   "cell_type": "code",
   "execution_count": 20,
   "id": "a115dd0a",
   "metadata": {},
   "outputs": [
    {
     "name": "stdout",
     "output_type": "stream",
     "text": [
      "h e l l o "
     ]
    }
   ],
   "source": [
    "for ch in 'hello':\n",
    "    print(ch, end=' ')"
   ]
  },
  {
   "cell_type": "code",
   "execution_count": 23,
   "id": "b78241bc",
   "metadata": {},
   "outputs": [
    {
     "name": "stdout",
     "output_type": "stream",
     "text": [
      "2*1= 2 2*2= 4 2*3= 6 2*4= 8 2*5=10 2*6=12 2*7=14 2*8=16 2*9=18 \n",
      "3*1= 3 3*2= 6 3*3= 9 3*4=12 3*5=15 3*6=18 3*7=21 3*8=24 3*9=27 \n",
      "4*1= 4 4*2= 8 4*3=12 4*4=16 4*5=20 4*6=24 4*7=28 4*8=32 4*9=36 \n",
      "5*1= 5 5*2=10 5*3=15 5*4=20 5*5=25 5*6=30 5*7=35 5*8=40 5*9=45 \n",
      "6*1= 6 6*2=12 6*3=18 6*4=24 6*5=30 6*6=36 6*7=42 6*8=48 6*9=54 \n",
      "7*1= 7 7*2=14 7*3=21 7*4=28 7*5=35 7*6=42 7*7=49 7*8=56 7*9=63 \n",
      "8*1= 8 8*2=16 8*3=24 8*4=32 8*5=40 8*6=48 8*7=56 8*8=64 8*9=72 \n",
      "9*1= 9 9*2=18 9*3=27 9*4=36 9*5=45 9*6=54 9*7=63 9*8=72 9*9=81 \n"
     ]
    }
   ],
   "source": [
    "for i in range(2,10):     #외부 for 루프\n",
    "    for j in range(1,10): #내부for루프\n",
    "        print('{}*{}={:2d}'.format(i, j, i*j), end=' ')\n",
    "    print() #내부 루프 수행 후 줄바꿈을 함"
   ]
  },
  {
   "cell_type": "code",
   "execution_count": 24,
   "id": "00f9bd48",
   "metadata": {},
   "outputs": [
    {
     "ename": "SyntaxError",
     "evalue": "invalid syntax (4010152157.py, line 3)",
     "output_type": "error",
     "traceback": [
      "\u001b[1;36m  Cell \u001b[1;32mIn[24], line 3\u001b[1;36m\u001b[0m\n\u001b[1;33m    for i range(n):\u001b[0m\n\u001b[1;37m          ^\u001b[0m\n\u001b[1;31mSyntaxError\u001b[0m\u001b[1;31m:\u001b[0m invalid syntax\n"
     ]
    }
   ],
   "source": [
    "n=7\n",
    "\n",
    "for i range(n):\n",
    "    st=''\n",
    "    for j in range(i):\n",
    "        st=st+' '\n",
    "        print (st+'#')"
   ]
  },
  {
   "cell_type": "code",
   "execution_count": 26,
   "id": "e13bfe94",
   "metadata": {},
   "outputs": [
    {
     "name": "stdout",
     "output_type": "stream",
     "text": [
      "i = 1, s = 1\n",
      "i = 2, s = 3\n",
      "i = 3, s = 6\n",
      "i = 4, s = 10\n",
      "i = 5, s = 15\n",
      "i = 6, s = 21\n",
      "i = 7, s = 28\n",
      "i = 8, s = 36\n",
      "i = 9, s = 45\n",
      "i = 10, s = 55\n",
      "1에서 10까지의 합: 55\n"
     ]
    }
   ],
   "source": [
    "s = 0\n",
    "for i in range(1, 11):\n",
    "    s = s + i\n",
    "    print('i = {}, s = {}'.format(i, s) )\n",
    "print('1에서 10까지의 합:', s)"
   ]
  },
  {
   "cell_type": "code",
   "execution_count": null,
   "id": "ebb8a96a",
   "metadata": {},
   "outputs": [],
   "source": []
  },
  {
   "cell_type": "code",
   "execution_count": 27,
   "id": "6bdd5e09",
   "metadata": {},
   "outputs": [
    {
     "name": "stdout",
     "output_type": "stream",
     "text": [
      "합계를 구할 수를 입력하세요:100\n",
      "1부터 100까지의 합은 5050\n"
     ]
    }
   ],
   "source": [
    "n=int(input('합계를 구할 수를 입력하세요:'))\n",
    "s=0\n",
    "\n",
    "for i in range(0,n):\n",
    "    s=s+(i+1)\n",
    "    \n",
    "print('1부터 {}까지의 합은 {}'.format(n,s))"
   ]
  },
  {
   "cell_type": "code",
   "execution_count": 30,
   "id": "a30d3433",
   "metadata": {},
   "outputs": [
    {
     "name": "stdout",
     "output_type": "stream",
     "text": [
      "수를 입력하세요:3\n",
      "3! = 6\n"
     ]
    }
   ],
   "source": [
    "n=int(input('수를 입력하세요:'))\n",
    "fact=1\n",
    "for i in range(1, n+1):\n",
    "    fact=fact*i\n",
    "    \n",
    "print('{}! = {}'.format(n,fact))"
   ]
  },
  {
   "cell_type": "code",
   "execution_count": 31,
   "id": "a1b3f492",
   "metadata": {},
   "outputs": [
    {
     "name": "stdout",
     "output_type": "stream",
     "text": [
      "3*9=27 "
     ]
    }
   ],
   "source": [
    " print('{}*{}={:2d}'.format(i, j, i*j), end=' ')"
   ]
  },
  {
   "cell_type": "code",
   "execution_count": null,
   "id": "a1f65409",
   "metadata": {},
   "outputs": [],
   "source": []
  },
  {
   "cell_type": "code",
   "execution_count": null,
   "id": "35f8fa78",
   "metadata": {},
   "outputs": [],
   "source": []
  },
  {
   "cell_type": "code",
   "execution_count": null,
   "id": "2fe47ca3",
   "metadata": {},
   "outputs": [],
   "source": []
  }
 ],
 "metadata": {
  "kernelspec": {
   "display_name": "Python 3 (ipykernel)",
   "language": "python",
   "name": "python3"
  },
  "language_info": {
   "codemirror_mode": {
    "name": "ipython",
    "version": 3
   },
   "file_extension": ".py",
   "mimetype": "text/x-python",
   "name": "python",
   "nbconvert_exporter": "python",
   "pygments_lexer": "ipython3",
   "version": "3.11.4"
  }
 },
 "nbformat": 4,
 "nbformat_minor": 5
}
